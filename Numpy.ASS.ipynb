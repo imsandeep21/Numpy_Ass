{
 "cells": [
  {
   "cell_type": "code",
   "execution_count": 3,
   "id": "990a009b-a896-4d69-9a5e-62d36efcdd49",
   "metadata": {},
   "outputs": [],
   "source": [
    "import pandas as pd"
   ]
  },
  {
   "cell_type": "code",
   "execution_count": 5,
   "id": "041e70e0-6add-4b68-949c-f7912d8ee5ef",
   "metadata": {},
   "outputs": [],
   "source": [
    "import numpy as np"
   ]
  },
  {
   "cell_type": "code",
   "execution_count": 63,
   "id": "38bbc53f-b40e-4dfd-8dad-e6d390932342",
   "metadata": {},
   "outputs": [
    {
     "data": {
      "text/html": [
       "<div>\n",
       "<style scoped>\n",
       "    .dataframe tbody tr th:only-of-type {\n",
       "        vertical-align: middle;\n",
       "    }\n",
       "\n",
       "    .dataframe tbody tr th {\n",
       "        vertical-align: top;\n",
       "    }\n",
       "\n",
       "    .dataframe thead th {\n",
       "        text-align: right;\n",
       "    }\n",
       "</style>\n",
       "<table border=\"1\" class=\"dataframe\">\n",
       "  <thead>\n",
       "    <tr style=\"text-align: right;\">\n",
       "      <th></th>\n",
       "      <th>Player Name</th>\n",
       "      <th>Age</th>\n",
       "      <th>Matches Played</th>\n",
       "      <th>Batting Average</th>\n",
       "      <th>Strike Rate</th>\n",
       "    </tr>\n",
       "  </thead>\n",
       "  <tbody>\n",
       "    <tr>\n",
       "      <th>0</th>\n",
       "      <td>Player_1</td>\n",
       "      <td>26</td>\n",
       "      <td>456</td>\n",
       "      <td>27.70</td>\n",
       "      <td>188.21</td>\n",
       "    </tr>\n",
       "    <tr>\n",
       "      <th>1</th>\n",
       "      <td>Player_2</td>\n",
       "      <td>23</td>\n",
       "      <td>154</td>\n",
       "      <td>24.61</td>\n",
       "      <td>139.34</td>\n",
       "    </tr>\n",
       "    <tr>\n",
       "      <th>2</th>\n",
       "      <td>Player_3</td>\n",
       "      <td>32</td>\n",
       "      <td>210</td>\n",
       "      <td>36.87</td>\n",
       "      <td>182.79</td>\n",
       "    </tr>\n",
       "    <tr>\n",
       "      <th>3</th>\n",
       "      <td>Player_4</td>\n",
       "      <td>34</td>\n",
       "      <td>426</td>\n",
       "      <td>51.81</td>\n",
       "      <td>178.77</td>\n",
       "    </tr>\n",
       "    <tr>\n",
       "      <th>4</th>\n",
       "      <td>Player_5</td>\n",
       "      <td>30</td>\n",
       "      <td>221</td>\n",
       "      <td>49.80</td>\n",
       "      <td>162.44</td>\n",
       "    </tr>\n",
       "    <tr>\n",
       "      <th>...</th>\n",
       "      <td>...</td>\n",
       "      <td>...</td>\n",
       "      <td>...</td>\n",
       "      <td>...</td>\n",
       "      <td>...</td>\n",
       "    </tr>\n",
       "    <tr>\n",
       "      <th>995</th>\n",
       "      <td>Player_996</td>\n",
       "      <td>24</td>\n",
       "      <td>279</td>\n",
       "      <td>23.46</td>\n",
       "      <td>187.80</td>\n",
       "    </tr>\n",
       "    <tr>\n",
       "      <th>996</th>\n",
       "      <td>Player_997</td>\n",
       "      <td>28</td>\n",
       "      <td>344</td>\n",
       "      <td>29.47</td>\n",
       "      <td>160.55</td>\n",
       "    </tr>\n",
       "    <tr>\n",
       "      <th>997</th>\n",
       "      <td>Player_998</td>\n",
       "      <td>23</td>\n",
       "      <td>126</td>\n",
       "      <td>49.30</td>\n",
       "      <td>124.71</td>\n",
       "    </tr>\n",
       "    <tr>\n",
       "      <th>998</th>\n",
       "      <td>Player_999</td>\n",
       "      <td>35</td>\n",
       "      <td>16</td>\n",
       "      <td>41.93</td>\n",
       "      <td>135.59</td>\n",
       "    </tr>\n",
       "    <tr>\n",
       "      <th>999</th>\n",
       "      <td>Player_1000</td>\n",
       "      <td>30</td>\n",
       "      <td>146</td>\n",
       "      <td>25.12</td>\n",
       "      <td>108.39</td>\n",
       "    </tr>\n",
       "  </tbody>\n",
       "</table>\n",
       "<p>1000 rows × 5 columns</p>\n",
       "</div>"
      ],
      "text/plain": [
       "     Player Name  Age  Matches Played  Batting Average  Strike Rate\n",
       "0       Player_1   26             456            27.70       188.21\n",
       "1       Player_2   23             154            24.61       139.34\n",
       "2       Player_3   32             210            36.87       182.79\n",
       "3       Player_4   34             426            51.81       178.77\n",
       "4       Player_5   30             221            49.80       162.44\n",
       "..           ...  ...             ...              ...          ...\n",
       "995   Player_996   24             279            23.46       187.80\n",
       "996   Player_997   28             344            29.47       160.55\n",
       "997   Player_998   23             126            49.30       124.71\n",
       "998   Player_999   35              16            41.93       135.59\n",
       "999  Player_1000   30             146            25.12       108.39\n",
       "\n",
       "[1000 rows x 5 columns]"
      ]
     },
     "execution_count": 63,
     "metadata": {},
     "output_type": "execute_result"
    }
   ],
   "source": [
    "df = pd.read_csv(\"C:/Users/Dell/Downloads/Indian_Cricket_Team_Dataset.csv\")\n",
    "df"
   ]
  },
  {
   "cell_type": "code",
   "execution_count": 13,
   "id": "28d01b5b-ece3-49dc-89d1-78b426cdd07a",
   "metadata": {},
   "outputs": [
    {
     "name": "stdout",
     "output_type": "stream",
     "text": [
      "[['Player_1' 26 456 27.7 188.21]\n",
      " ['Player_2' 23 154 24.61 139.34]\n",
      " ['Player_3' 32 210 36.87 182.79]\n",
      " ...\n",
      " ['Player_998' 23 126 49.3 124.71]\n",
      " ['Player_999' 35 16 41.93 135.59]\n",
      " ['Player_1000' 30 146 25.12 108.39]]\n"
     ]
    }
   ],
   "source": [
    "numpy_array = excel_data.to_numpy()\n",
    "print(numpy_array)"
   ]
  },
  {
   "cell_type": "markdown",
   "id": "e04f347b-e9bc-426e-bcf6-1c0d49d5e0f4",
   "metadata": {},
   "source": [
    "## Query 1: Convert 'Age' column to a NumPy array."
   ]
  },
  {
   "cell_type": "code",
   "execution_count": 46,
   "id": "0058e706-6e18-41bc-8651-8d435caa7a01",
   "metadata": {},
   "outputs": [
    {
     "name": "stdout",
     "output_type": "stream",
     "text": [
      "[26 23 32 34 30 27 32 24 26 29 22 26 30 30 27 24 23 27 27 22 25 24 21 27\n",
      " 31 33 25 21 35 31 24 20 31 29 25 32 31 28 20 30 30 34 29 35 31 31 35 34\n",
      " 33 33 34 33 22 31 26 23 35 28 22 24 22 26 24 28 26 21 23 28 31 33 21 29\n",
      " 28 29 24 21 23 31 34 31 26 31 32 27 34 22 33 20 23 21 27 23 21 33 25 25\n",
      " 29 23 25 32 34 21 29 31 21 29 33 23 33 34 35 34 27 33 26 31 28 33 27 24\n",
      " 35 32 21 34 24 27 29 28 31 31 31 32 28 32 34 32 20 28 26 28 27 20 31 27\n",
      " 27 34 30 22 20 27 22 22 20 30 24 29 26 29 28 31 26 28 27 31 21 20 35 26\n",
      " 26 33 27 24 22 31 27 25 30 22 20 22 24 34 33 22 20 24 29 26 34 33 26 30\n",
      " 28 34 34 29 29 31 32 22 34 35 26 20 23 32 35 23 33 24 26 26 32 34 30 32\n",
      " 23 32 35 26 30 22 25 31 21 29 32 33 28 24 25 31 31 31 31 23 33 33 30 35\n",
      " 29 26 31 28 26 33 20 20 28 30 33 28 23 32 28 22 26 25 27 30 28 33 24 20\n",
      " 22 29 31 27 34 30 25 35 35 27 28 23 20 33 20 29 23 31 33 26 21 22 20 24\n",
      " 20 27 20 30 20 21 21 31 25 26 24 35 20 20 22 33 21 24 31 29 35 25 35 26\n",
      " 23 26 30 27 30 20 34 25 27 24 23 21 25 25 30 34 35 35 20 28 31 30 25 35\n",
      " 32 22 23 31 30 23 22 29 22 34 22 23 35 26 23 28 20 27 35 26 21 27 20 30\n",
      " 31 28 28 21 26 34 33 29 22 26 31 35 29 35 28 23 31 20 21 20 35 33 31 24\n",
      " 24 35 30 26 28 28 22 22 35 35 22 23 27 25 27 20 27 23 30 20 27 23 25 27\n",
      " 23 33 22 35 33 28 22 28 32 21 35 33 21 21 25 22 35 32 28 23 20 23 20 33\n",
      " 24 35 23 27 35 27 26 22 20 35 20 35 31 30 22 25 26 25 33 33 25 25 32 22\n",
      " 25 27 30 30 21 24 33 20 31 34 35 20 24 31 32 35 22 23 22 35 20 35 20 31\n",
      " 31 33 32 33 24 25 22 31 28 24 27 32 20 33 24 34 22 31 20 23 34 32 24 35\n",
      " 26 20 35 22 35 21 28 29 34 25 29 22 27 33 27 21 35 34 25 26 21 34 30 29\n",
      " 21 29 20 27 20 28 30 25 35 26 32 29 26 29 22 21 28 27 32 31 29 26 28 23\n",
      " 32 23 20 27 35 33 35 33 31 22 26 34 31 21 21 35 26 34 25 22 28 29 34 33\n",
      " 32 25 29 29 25 20 23 29 25 34 25 30 31 24 20 27 24 31 31 31 24 26 23 25\n",
      " 32 35 23 33 34 22 26 27 23 35 32 21 31 29 33 22 20 27 34 22 31 29 26 29\n",
      " 24 29 24 33 26 34 28 31 24 20 29 29 20 34 21 35 33 25 35 28 27 32 24 20\n",
      " 35 32 26 35 34 24 25 32 26 22 31 29 35 22 24 25 28 32 33 31 24 34 20 33\n",
      " 33 33 23 24 31 35 29 29 35 24 26 23 20 33 33 24 26 29 29 25 24 23 21 23\n",
      " 34 29 29 22 29 35 20 27 24 32 23 35 27 35 26 21 20 31 35 35 30 23 27 31\n",
      " 21 22 31 20 20 32 22 30 24 31 22 20 20 27 29 30 31 32 32 31 34 33 21 32\n",
      " 22 21 22 26 20 29 27 32 29 29 29 33 21 22 28 26 23 29 24 21 32 30 32 27\n",
      " 23 28 24 32 28 23 29 24 28 27 35 22 20 22 35 23 21 20 26 35 27 26 33 35\n",
      " 24 31 20 26 32 26 28 22 28 33 20 20 33 23 35 28 25 32 30 22 20 23 31 32\n",
      " 28 22 31 28 26 31 33 34 35 23 22 29 34 35 24 24 22 31 28 23 30 24 23 24\n",
      " 26 35 28 26 32 24 29 29 26 33 34 29 24 22 26 32 30 30 21 34 31 28 29 29\n",
      " 31 20 32 25 26 33 32 27 29 28 21 30 29 21 24 32 24 25 22 27 35 32 20 25\n",
      " 23 20 34 26 28 32 23 23 25 31 34 22 32 31 25 26 30 29 29 22 26 33 22 32\n",
      " 32 21 31 33 29 23 31 27 32 34 28 26 20 22 32 31 33 28 34 31 20 28 27 20\n",
      " 25 24 25 29 31 32 35 32 32 34 24 35 25 24 30 31 24 23 22 22 23 28 21 34\n",
      " 28 20 33 34 34 20 24 25 25 22 35 26 28 30 31 29 35 35 27 25 31 27 31 24\n",
      " 27 29 31 23 29 27 29 31 21 31 31 24 28 23 35 30]\n"
     ]
    }
   ],
   "source": [
    "ages_array = df['Age'].to_numpy()\n",
    "print(ages_array[:1000])"
   ]
  },
  {
   "cell_type": "markdown",
   "id": "f2f2a4c4-9e1e-4c4d-a8f1-5e60bde76f99",
   "metadata": {},
   "source": [
    "## Query 2: Find the average age of players."
   ]
  },
  {
   "cell_type": "code",
   "execution_count": 67,
   "id": "4f75580f-ab2d-47c6-99dd-069f5c621b1e",
   "metadata": {},
   "outputs": [
    {
     "name": "stdout",
     "output_type": "stream",
     "text": [
      "27.57\n"
     ]
    }
   ],
   "source": [
    "x= np.array(df[\"Age\"].mean())\n",
    "print(x)"
   ]
  },
  {
   "cell_type": "markdown",
   "id": "c7605226-5e7f-4706-ba89-3b10401e4101",
   "metadata": {},
   "source": [
    "## Query 3: Find the oldest and youngest player age. "
   ]
  },
  {
   "cell_type": "code",
   "execution_count": 71,
   "id": "b46ea76a-3484-4209-a010-a7d2cf8560e4",
   "metadata": {},
   "outputs": [
    {
     "name": "stdout",
     "output_type": "stream",
     "text": [
      "35\n",
      "20\n"
     ]
    }
   ],
   "source": [
    "max_age = np.array(df['Age'].max())\n",
    "print(max_age)\n",
    "min_age = np.array(df['Age'].min())\n",
    "print(min_age)"
   ]
  },
  {
   "cell_type": "markdown",
   "id": "0616e410-8aae-42d3-92a5-5da3a74844e6",
   "metadata": {},
   "source": [
    "## Query 4: Count the total number of players above 30 years old."
   ]
  },
  {
   "cell_type": "code",
   "execution_count": 73,
   "id": "39654bd1-ced9-459c-8ce0-10c13a71ebfb",
   "metadata": {},
   "outputs": [
    {
     "data": {
      "text/plain": [
       "336"
      ]
     },
     "execution_count": 73,
     "metadata": {},
     "output_type": "execute_result"
    }
   ],
   "source": [
    "count = np.array((df['Age']>30)).sum()\n",
    "count"
   ]
  },
  {
   "cell_type": "markdown",
   "id": "d8f14bd5-b3b5-4fcc-b8b0-f43078a50c70",
   "metadata": {},
   "source": [
    "## Query 5: Find the median batting average. "
   ]
  },
  {
   "cell_type": "code",
   "execution_count": 77,
   "id": "3f611cde-2d21-44d7-a077-8a7fc1861bfa",
   "metadata": {},
   "outputs": [
    {
     "name": "stdout",
     "output_type": "stream",
     "text": [
      "40.135\n"
     ]
    }
   ],
   "source": [
    "median = np.array(df['Batting Average'].median())\n",
    "print(median)"
   ]
  },
  {
   "cell_type": "markdown",
   "id": "e1921b31-51c1-471d-b1b1-77e51a16f39d",
   "metadata": {},
   "source": [
    "## Query 6: Find the standard deviation of strike rates.## "
   ]
  },
  {
   "cell_type": "code",
   "execution_count": 81,
   "id": "1583619a-3800-42d2-8fcb-e6c1ced4a6c9",
   "metadata": {},
   "outputs": [
    {
     "name": "stdout",
     "output_type": "stream",
     "text": [
      "29.122759125573694\n"
     ]
    }
   ],
   "source": [
    "std  = np.array(df['Strike Rate'].std())\n",
    "print(std)"
   ]
  },
  {
   "cell_type": "markdown",
   "id": "2cd7cd44-a51a-4712-a3e6-7d019bc73204",
   "metadata": {},
   "source": [
    "## Query 7: Find the 90th percentile of batting average. "
   ]
  },
  {
   "cell_type": "code",
   "execution_count": 83,
   "id": "f9d61551-c47a-48a8-b182-b1e91361b368",
   "metadata": {},
   "outputs": [
    {
     "name": "stdout",
     "output_type": "stream",
     "text": [
      "55.32\n"
     ]
    }
   ],
   "source": [
    "percentile_90 = np.percentile(batting_avg, 90)\n",
    "print(round(percentile_90, 2))"
   ]
  },
  {
   "cell_type": "markdown",
   "id": "b537f9c4-7cfa-44c4-b582-037df0eaff21",
   "metadata": {},
   "source": [
    "## Query 8: Find the number of players with strike rate above 150."
   ]
  },
  {
   "cell_type": "code",
   "execution_count": 86,
   "id": "c0234d87-63a6-4f41-ad68-868c44fcdef8",
   "metadata": {},
   "outputs": [
    {
     "name": "stdout",
     "output_type": "stream",
     "text": [
      "513\n"
     ]
    }
   ],
   "source": [
    "high_strike = np.sum(strike_rate > 150)\n",
    "print(high_strike)"
   ]
  },
  {
   "cell_type": "markdown",
   "id": "91dbed6e-57f0-47d3-af7d-9aff3513caaf",
   "metadata": {},
   "source": [
    "## Query 9: Reshape the first 20 batting averages into a 4x5 matrix. "
   ]
  },
  {
   "cell_type": "code",
   "execution_count": 89,
   "id": "6c42bc90-3d63-4f82-b403-b6c66a37315a",
   "metadata": {},
   "outputs": [
    {
     "name": "stdout",
     "output_type": "stream",
     "text": [
      "[[27.7  24.61 36.87 51.81 49.8 ]\n",
      " [22.2  38.21 40.9  45.78 46.01]\n",
      " [34.59 42.43 39.24 55.4  41.21]\n",
      " [37.64 36.18 42.9  52.16 41.54]]\n"
     ]
    }
   ],
   "source": [
    "reshaped_matrix = batting_avg[:20].reshape(4, 5)\n",
    "print(reshaped_matrix)"
   ]
  },
  {
   "cell_type": "markdown",
   "id": "bea8f189-3bef-4297-ac67-9b161ce92f5f",
   "metadata": {},
   "source": [
    "## Query 10: Compute row-wise sum of reshaped matrix."
   ]
  },
  {
   "cell_type": "code",
   "execution_count": 92,
   "id": "2cafdc4d-5bde-4bfe-ae46-f848b6707d45",
   "metadata": {},
   "outputs": [
    {
     "name": "stdout",
     "output_type": "stream",
     "text": [
      "[190.79 193.1  212.87 210.42]\n"
     ]
    }
   ],
   "source": [
    "row_sums = np.sum(reshaped_matrix, axis=1)\n",
    "print(row_sums)"
   ]
  },
  {
   "cell_type": "markdown",
   "id": "a04bf694-0780-4b52-a00e-1a9ca0c4de8d",
   "metadata": {},
   "source": [
    "## Query 11: Compute column-wise mean of reshaped matrix."
   ]
  },
  {
   "cell_type": "code",
   "execution_count": 117,
   "id": "12fa62cf-7093-4aef-80ed-c984a7436e65",
   "metadata": {},
   "outputs": [
    {
     "name": "stdout",
     "output_type": "stream",
     "text": [
      "[30.5325 35.3575 39.9775 51.2875 44.64  ]\n"
     ]
    }
   ],
   "source": [
    "col_means = np.mean(reshaped_matrix, axis=0)\n",
    "print(col_means)"
   ]
  },
  {
   "cell_type": "markdown",
   "id": "03b79f29-212d-4fad-84a9-89fcbeb83273",
   "metadata": {},
   "source": [
    "## Query 12: Transpose the reshaped matrix. "
   ]
  },
  {
   "cell_type": "code",
   "execution_count": 98,
   "id": "5d149ad9-8131-4e95-8ecc-ccbc0b027775",
   "metadata": {},
   "outputs": [
    {
     "name": "stdout",
     "output_type": "stream",
     "text": [
      "[[27.7  22.2  34.59 37.64]\n",
      " [24.61 38.21 42.43 36.18]\n",
      " [36.87 40.9  39.24 42.9 ]\n",
      " [51.81 45.78 55.4  52.16]\n",
      " [49.8  46.01 41.21 41.54]]\n"
     ]
    }
   ],
   "source": [
    "transposed = reshaped_matrix.T\n",
    "print(transposed)"
   ]
  },
  {
   "cell_type": "markdown",
   "id": "d91a6370-b10f-45e1-9571-07df9c7c08d7",
   "metadata": {},
   "source": [
    "## Query 13: Find the variance of batting average. "
   ]
  },
  {
   "cell_type": "code",
   "execution_count": 111,
   "id": "ee44b83e-c617-48c3-a1e0-acb95b1f5052",
   "metadata": {},
   "outputs": [
    {
     "name": "stdout",
     "output_type": "stream",
     "text": [
      "131.6715008167167\n"
     ]
    }
   ],
   "source": [
    "variance = np.array(df['Batting Average'].var())\n",
    "print(variance)"
   ]
  },
  {
   "cell_type": "markdown",
   "id": "d346eadc-9f07-4ef1-8b9a-1a2a3fe0293a",
   "metadata": {},
   "source": [
    "## Query 14: Stack age and matches played horizontally."
   ]
  },
  {
   "cell_type": "code",
   "execution_count": 109,
   "id": "a06b0583-59c3-4d45-b5bb-4fb878db9339",
   "metadata": {},
   "outputs": [
    {
     "name": "stdout",
     "output_type": "stream",
     "text": [
      "[[ 26  23  32 ...  23  35  30]\n",
      " [456 154 210 ... 126  16 146]]\n"
     ]
    }
   ],
   "source": [
    "n = np.array(df['Age'])\n",
    "n1 = np.array(df['Matches Played'])\n",
    "stacked = np.stack((n,n1))\n",
    "print(stacked)"
   ]
  },
  {
   "cell_type": "markdown",
   "id": "78630899-eaa1-4f76-83f9-607834c63a70",
   "metadata": {},
   "source": [
    "## Query 15: Split the batting average array into 5 equal parts."
   ]
  },
  {
   "cell_type": "code",
   "execution_count": 107,
   "id": "6e2e172b-abf0-4c84-ba3e-f3a43a1802b8",
   "metadata": {},
   "outputs": [
    {
     "name": "stdout",
     "output_type": "stream",
     "text": [
      "[27.7  24.61 36.87 51.81 49.8 ]\n"
     ]
    }
   ],
   "source": [
    "split_arrays = np.array_split(batting_avg, 5)\n",
    "print(split_arrays[0][:5])"
   ]
  }
 ],
 "metadata": {
  "kernelspec": {
   "display_name": "Python [conda env:base] *",
   "language": "python",
   "name": "conda-base-py"
  },
  "language_info": {
   "codemirror_mode": {
    "name": "ipython",
    "version": 3
   },
   "file_extension": ".py",
   "mimetype": "text/x-python",
   "name": "python",
   "nbconvert_exporter": "python",
   "pygments_lexer": "ipython3",
   "version": "3.12.7"
  }
 },
 "nbformat": 4,
 "nbformat_minor": 5
}
